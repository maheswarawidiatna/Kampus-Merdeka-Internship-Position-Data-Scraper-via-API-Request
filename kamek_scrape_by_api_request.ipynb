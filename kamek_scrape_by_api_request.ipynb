{
  "nbformat": 4,
  "nbformat_minor": 0,
  "metadata": {
    "colab": {
      "provenance": []
    },
    "kernelspec": {
      "name": "python3",
      "display_name": "Python 3"
    },
    "language_info": {
      "name": "python"
    }
  },
  "cells": [
    {
      "cell_type": "markdown",
      "source": [
        "# **extraction**"
      ],
      "metadata": {
        "id": "EQPezBONQMS2"
      }
    },
    {
      "cell_type": "code",
      "source": [
        "import requests\n",
        "import pandas as pd\n",
        "\n",
        "url = \"https://api.kampusmerdeka.kemdikbud.go.id/magang/browse/position\"\n",
        "limit = 100\n",
        "offset = 0\n",
        "\n",
        "all_data = pd.DataFrame()\n",
        "\n",
        "while True:\n",
        "    params = {\n",
        "        \"offset\": offset,\n",
        "        \"limit\": limit,\n",
        "        \"location_key\": \"\",\n",
        "        \"mitra_key\": \"\",\n",
        "        \"keyword\": \"\",\n",
        "        \"sector_id\": \"\",\n",
        "        \"sort_by\": \"published_time\",\n",
        "        \"order\": \"desc\"\n",
        "    }\n",
        "\n",
        "    response = requests.get(url, params=params)\n",
        "\n",
        "    offset += limit\n",
        "    data = pd.DataFrame(response.json()[\"data\"])\n",
        "    if len(data) == 0:\n",
        "        break\n",
        "    all_data = pd.concat([all_data, data], ignore_index=True)\n",
        "    print(f\"data collected : {len(all_data)}\")\n",
        "\n",
        "print(f\"{len(all_data)} data is collected\")"
      ],
      "metadata": {
        "colab": {
          "base_uri": "https://localhost:8080/"
        },
        "id": "r1o7nOe4zXWN",
        "outputId": "7e734f8d-7b70-44f7-93fb-837efd656223"
      },
      "execution_count": 2,
      "outputs": [
        {
          "output_type": "stream",
          "name": "stdout",
          "text": [
            "data collected : 100\n",
            "data collected : 200\n",
            "data collected : 300\n",
            "data collected : 400\n",
            "data collected : 500\n",
            "data collected : 600\n",
            "data collected : 700\n",
            "data collected : 800\n",
            "data collected : 900\n",
            "data collected : 1000\n",
            "data collected : 1100\n",
            "data collected : 1200\n",
            "data collected : 1300\n",
            "data collected : 1400\n",
            "data collected : 1500\n",
            "data collected : 1600\n",
            "data collected : 1700\n",
            "data collected : 1800\n",
            "data collected : 1900\n",
            "data collected : 2000\n",
            "data collected : 2100\n",
            "data collected : 2200\n",
            "data collected : 2300\n",
            "data collected : 2400\n",
            "data collected : 2500\n",
            "data collected : 2600\n",
            "data collected : 2700\n",
            "data collected : 2800\n",
            "data collected : 2900\n",
            "data collected : 3000\n",
            "data collected : 3100\n",
            "data collected : 3200\n",
            "data collected : 3300\n",
            "data collected : 3400\n",
            "data collected : 3500\n",
            "data collected : 3600\n",
            "data collected : 3700\n",
            "data collected : 3800\n",
            "data collected : 3900\n",
            "data collected : 4000\n",
            "data collected : 4100\n",
            "data collected : 4200\n",
            "data collected : 4300\n",
            "data collected : 4400\n",
            "data collected : 4500\n",
            "data collected : 4600\n",
            "data collected : 4700\n",
            "data collected : 4800\n",
            "data collected : 4900\n",
            "data collected : 5000\n",
            "data collected : 5100\n",
            "data collected : 5200\n",
            "data collected : 5300\n",
            "data collected : 5400\n",
            "data collected : 5500\n",
            "data collected : 5513\n",
            "5513 data is collected\n"
          ]
        }
      ]
    },
    {
      "cell_type": "markdown",
      "source": [
        "hapus '#' diawal baris klo mau download all_data.xlsx"
      ],
      "metadata": {
        "id": "khmb5NzbQVt1"
      }
    },
    {
      "cell_type": "code",
      "source": [
        "from google.colab import files\n",
        "#all_data.to_excel('all_data.xlsx', index=False)\n",
        "#files.download('all_data.xlsx')"
      ],
      "metadata": {
        "id": "Bb6CCGKoLyNe"
      },
      "execution_count": 3,
      "outputs": []
    },
    {
      "cell_type": "markdown",
      "source": [
        "# **data processing**"
      ],
      "metadata": {
        "id": "x8Qwjz-UIQHo"
      }
    },
    {
      "cell_type": "code",
      "source": [
        "set(all_data['mitra_name'])"
      ],
      "metadata": {
        "colab": {
          "base_uri": "https://localhost:8080/"
        },
        "id": "TE2LjRC3TgO9",
        "outputId": "fd8225c7-36da-41aa-da64-a95ecb53ae48"
      },
      "execution_count": 4,
      "outputs": [
        {
          "output_type": "execute_result",
          "data": {
            "text/plain": [
              "{' ',\n",
              " 'ADS Digital Partner',\n",
              " 'AGAVINOVATION: Agriculture &  Food Tech. R&D  company',\n",
              " 'AMATI Indonesia',\n",
              " 'ASSA',\n",
              " 'ATT Group',\n",
              " 'AXA Mandiri',\n",
              " 'Adhimix Group',\n",
              " 'Agent & Co',\n",
              " 'Alfamart',\n",
              " 'Alfamidi',\n",
              " 'Alfath Corp',\n",
              " 'Arkatama',\n",
              " 'Asosiasi Pengusaha Indonesia ',\n",
              " 'Astra',\n",
              " 'Astra Credit Companies (ACC)',\n",
              " 'AwanTunai',\n",
              " 'BCA',\n",
              " 'BIGIO',\n",
              " 'BMKG',\n",
              " 'BNI',\n",
              " 'BPJS Ketenagakerjaan',\n",
              " 'BPKH',\n",
              " 'BPS Papua',\n",
              " 'BRGM',\n",
              " 'BTPN Syariah',\n",
              " 'BUMA',\n",
              " 'Badan POM',\n",
              " 'Bagian Organisasi Sekretariat Daerah Kota Surabaya',\n",
              " 'Bakrie Center Foundation',\n",
              " 'Bank BRI',\n",
              " 'Bank BTN',\n",
              " 'Bank CIMB Niaga',\n",
              " 'Bank Danamon',\n",
              " 'Bank Syariah Indonesia atau BSI',\n",
              " 'Bappeda Litbang Bone Bolango',\n",
              " 'Beecons',\n",
              " 'Bina Pertiwi',\n",
              " 'Bisnis Indonesia Group',\n",
              " 'Blibli.com',\n",
              " 'Bluebird Group',\n",
              " 'Bukit Vista',\n",
              " 'CNN Indonesia',\n",
              " 'Cakap',\n",
              " 'Citiasia Inc.',\n",
              " 'DINAS KOPERASI USAHA KECIL DAN MENENNGAH DAN PERDAGANGAN KOTA SURABAYA',\n",
              " 'DPMPTSP Surabaya',\n",
              " 'DTA Promotion',\n",
              " 'Dankos',\n",
              " 'Defend ID',\n",
              " 'Dibimbing.id',\n",
              " 'Dikti',\n",
              " 'Dinas Kependudukan Dan Pencatatan Sipil Kota Malang',\n",
              " 'Dinas Kesehatan Kota Surabaya',\n",
              " 'Dinas Ketahanan Pangan Dan Pertanian Kota Surabaya',\n",
              " 'Dinas Komunikasi Dan Informatika Kota Surabaya',\n",
              " 'Dinas Koperasi dan UKM DIY',\n",
              " 'Dinas Lingkungan Hidup Kota Surabaya',\n",
              " 'Dinas Sosial Kota Medan',\n",
              " 'Direktorat Jenderal Tata Ruang',\n",
              " 'Disdukcapil Kota Surabaya',\n",
              " 'Diskominfotiksan Pesawaran',\n",
              " 'Disperinaker',\n",
              " 'Ditjen PPTR , Kementerian ATR/BPN',\n",
              " 'Ditjen Perumahan',\n",
              " 'Ditsuslat',\n",
              " 'EDUCOURSE',\n",
              " 'ELZATTA DAUKY',\n",
              " 'EduFarmers Foundation',\n",
              " 'Emtek',\n",
              " 'Erajaya',\n",
              " 'Fiber Optik',\n",
              " 'GUE Ecosystem',\n",
              " 'Gerakan Nasional Indonesia Kompeten (GNIK)',\n",
              " 'GoTo',\n",
              " 'Gobel Group',\n",
              " 'Gold Coin Group - Aboitiz Company',\n",
              " 'Hacktiv8',\n",
              " 'Halodoc',\n",
              " 'Hangry Indonesia',\n",
              " 'Hasnur Group',\n",
              " 'Healthy One (Pharos and Century Group)',\n",
              " 'HiColleagues',\n",
              " 'Home Credit Indonesia',\n",
              " 'Huawei',\n",
              " 'IDCloudHost',\n",
              " 'INDI Technology',\n",
              " 'Indekstat',\n",
              " 'Indomaret',\n",
              " 'Infinite Learning',\n",
              " 'Ivosights',\n",
              " 'Jababeka & Co',\n",
              " 'Jasa Marga',\n",
              " 'Jaswita Jabar',\n",
              " 'KALLA GROUP',\n",
              " 'KESDM',\n",
              " 'KLY (Kapanlagi Youniverse)',\n",
              " 'Kampus Merdeka Bank Indonesia (KMBI)',\n",
              " 'Karyamas Plantation',\n",
              " 'Kementerian Keuangan',\n",
              " 'Kementerian Pekerjaan Umum Dan Perumahan Rakyat',\n",
              " 'Kompas Gramedia',\n",
              " 'LAZNAS LMI',\n",
              " 'LDC East',\n",
              " 'LLDIKTI Wilayah II',\n",
              " 'LLDIKTI Wilayah V',\n",
              " 'LLDIKTI Wilayah VII',\n",
              " 'LLDIKTI4',\n",
              " 'LLDikti Wilayah III',\n",
              " 'LLDikti Wilayah XIII',\n",
              " 'Lawson',\n",
              " 'Lazada',\n",
              " 'Link Productive',\n",
              " 'Lokalate',\n",
              " 'MAP',\n",
              " 'MERCURE &amp; PEPPERS BALI ',\n",
              " 'METRO MESIN',\n",
              " 'Maritim Muda',\n",
              " 'Martha Tilaar Group',\n",
              " 'Methanol Plant',\n",
              " 'Metrodata Academy',\n",
              " 'Minerva',\n",
              " 'Museum Sandi ',\n",
              " 'Nanovest',\n",
              " 'Neobank',\n",
              " 'Novotel Tangerang',\n",
              " 'Nusantara Infrastructure',\n",
              " 'OK OCE INDONESIA',\n",
              " 'Orbit Future Academy',\n",
              " 'Otoritas Jasa Keuangan',\n",
              " 'PT ARM Solusi',\n",
              " 'PT Asuransi Sinar Mas',\n",
              " 'PT Bank Mandiri (Persero) Tbk',\n",
              " 'PT Bumitama Gunajaya Agro',\n",
              " 'PT INKA (Persero)',\n",
              " 'PT Kurnia Ciptamoda Gemilang',\n",
              " 'PT Mustika Ratu Tbk',\n",
              " 'PT Otak Kanan',\n",
              " 'PT PLN (PERSERO)',\n",
              " 'PT Pegadaian - MAGENTA',\n",
              " 'PT Permodalan Nasional Madani',\n",
              " 'PT Pertamina (Persero)',\n",
              " 'PT Petrokimia Gresik',\n",
              " 'PT. AEON INDONESIA',\n",
              " 'PT. Frisian Flag Indonesia ',\n",
              " 'PT. Pan Brothers Tbk & Group',\n",
              " 'PT.ARSI',\n",
              " 'PT.Garuda Cyber Indonesia',\n",
              " 'Paragon Technology and Innovation',\n",
              " 'Pilih Jurusan',\n",
              " 'Prudential Indonesia',\n",
              " 'Pupuk Kaltim',\n",
              " 'RAPP',\n",
              " 'Ruang Belajar Aqil',\n",
              " 'SEAMEO BIOTROP',\n",
              " 'SEAMEO QITEP in Language',\n",
              " 'SEAMEO QITEP in Science (SEAQIS)',\n",
              " 'SEAMEO RECFON',\n",
              " 'SIER',\n",
              " 'STECHOQ',\n",
              " 'STP',\n",
              " 'SUMMARECON',\n",
              " 'Satpol PP',\n",
              " 'Schoters',\n",
              " 'Sebangku Games',\n",
              " 'Sekolah Kak Seto Grup',\n",
              " 'Sekolah.mu',\n",
              " 'Setjen DPR RI',\n",
              " 'Shining Stars Agency',\n",
              " 'Shipper',\n",
              " 'Solo Technopark',\n",
              " 'Stasiun Geofisika Banjarnegara',\n",
              " 'StickEarn',\n",
              " 'Studycle',\n",
              " 'Suitmedia',\n",
              " 'Surya Citra Media - EMTEK Group',\n",
              " 'TELKOMSAT',\n",
              " 'TEMAS',\n",
              " 'THE 1O1 Jakarta Airport CBC ',\n",
              " 'TRANS TV',\n",
              " 'Technip Energies',\n",
              " 'Telkom',\n",
              " 'Telkomsel',\n",
              " 'The Farmhill',\n",
              " 'Toyota Indonesia',\n",
              " 'Trakindo',\n",
              " 'Trans Retail Indonesia',\n",
              " 'Traveloka',\n",
              " 'Travelxism',\n",
              " 'United Tractors',\n",
              " 'VOCASIA',\n",
              " 'Vetencode',\n",
              " 'Vidio',\n",
              " 'WIRAMUDA ACADEMY KEMENPORA',\n",
              " 'WarTek',\n",
              " 'Widya Robotics',\n",
              " 'XL Axiata',\n",
              " 'YHC QuIP (Quality Internship Program)',\n",
              " 'Zenius',\n",
              " 'Zurich Indonesia',\n",
              " 'detikcom',\n",
              " 'pintar.co'}"
            ]
          },
          "metadata": {},
          "execution_count": 4
        }
      ]
    },
    {
      "cell_type": "markdown",
      "source": [
        "pilih mau perusahaan apa aja, korporat dan BUMN"
      ],
      "metadata": {
        "id": "Vuw5wzXiQhJl"
      }
    },
    {
      "cell_type": "code",
      "source": [
        "#isi mau perusahaan apa aja\n",
        "\n",
        "corp = ['Vidio',\n",
        "        'MAP',\n",
        "        'RAPP']\n",
        "\n",
        "bumn = ['BNI',\n",
        "        'Bank BRI',\n",
        "        'Telkom']"
      ],
      "metadata": {
        "id": "vkk8NGrC7UeY"
      },
      "execution_count": 6,
      "outputs": []
    },
    {
      "cell_type": "code",
      "source": [
        "f_data = all_data[['name', 'activity_name', 'total', 'location', 'mitra_name']]"
      ],
      "metadata": {
        "id": "uboyKpfPBDX6"
      },
      "execution_count": 7,
      "outputs": []
    },
    {
      "cell_type": "code",
      "source": [
        "import pandas as pd\n",
        "\n",
        "def summarize(df, pr, output_filename):\n",
        "    temp = df[df['mitra_name'].isin(pr)]\n",
        "    df.reset_index(drop=True, inplace=True)\n",
        "\n",
        "    with pd.ExcelWriter(output_filename, engine='openpyxl') as writer:\n",
        "        result = pd.DataFrame(columns=[\"company\", \"quota\", \"location\", \"activity\", \"job\"])\n",
        "\n",
        "        for company in set(temp[\"mitra_name\"]):\n",
        "            c_temp = temp[temp[\"mitra_name\"] == company]\n",
        "            sheet_name = company[:31]\n",
        "            c_temp.to_excel(writer, sheet_name=sheet_name, index=False)\n",
        "\n",
        "            avg_quota = c_temp[\"total\"].sum() / len(c_temp[\"name\"])\n",
        "            location = set(c_temp['location'])\n",
        "            activity = set(c_temp['activity_name'])\n",
        "            job = set(c_temp['name'])\n",
        "\n",
        "            result = pd.concat([result, pd.DataFrame({\"company\": [company], \"quota\": [avg_quota], \"location\": [location], 'activity': [activity], 'job': [job]})], ignore_index=True)\n",
        "\n",
        "        result = result.sort_values(by=\"quota\", ascending=False).reset_index(drop=True)\n",
        "        result.index = result.index + 1\n",
        "\n",
        "        left = set(df['mitra_name']) - set(pr)\n",
        "\n",
        "        result.to_excel(writer, sheet_name='Summary', index=False)\n",
        "\n",
        "    return result\n"
      ],
      "metadata": {
        "id": "aY_GUDXWK5aw"
      },
      "execution_count": 8,
      "outputs": []
    },
    {
      "cell_type": "code",
      "source": [
        "summary_corp = summarize(f_data, corp, 'corp_sum.xlsx')\n",
        "summary_bumn = summarize(f_data, bumn, 'bumn_sum.xlsx')\n",
        "\n",
        "files.download('corp_sum.xlsx')\n",
        "files.download('bumn_sum.xlsx')"
      ],
      "metadata": {
        "id": "b-FF10nQ93qf",
        "colab": {
          "base_uri": "https://localhost:8080/",
          "height": 17
        },
        "outputId": "3f13c281-38fc-454c-c453-cd8cf5c05374"
      },
      "execution_count": 9,
      "outputs": [
        {
          "output_type": "display_data",
          "data": {
            "text/plain": [
              "<IPython.core.display.Javascript object>"
            ],
            "application/javascript": [
              "\n",
              "    async function download(id, filename, size) {\n",
              "      if (!google.colab.kernel.accessAllowed) {\n",
              "        return;\n",
              "      }\n",
              "      const div = document.createElement('div');\n",
              "      const label = document.createElement('label');\n",
              "      label.textContent = `Downloading \"${filename}\": `;\n",
              "      div.appendChild(label);\n",
              "      const progress = document.createElement('progress');\n",
              "      progress.max = size;\n",
              "      div.appendChild(progress);\n",
              "      document.body.appendChild(div);\n",
              "\n",
              "      const buffers = [];\n",
              "      let downloaded = 0;\n",
              "\n",
              "      const channel = await google.colab.kernel.comms.open(id);\n",
              "      // Send a message to notify the kernel that we're ready.\n",
              "      channel.send({})\n",
              "\n",
              "      for await (const message of channel.messages) {\n",
              "        // Send a message to notify the kernel that we're ready.\n",
              "        channel.send({})\n",
              "        if (message.buffers) {\n",
              "          for (const buffer of message.buffers) {\n",
              "            buffers.push(buffer);\n",
              "            downloaded += buffer.byteLength;\n",
              "            progress.value = downloaded;\n",
              "          }\n",
              "        }\n",
              "      }\n",
              "      const blob = new Blob(buffers, {type: 'application/binary'});\n",
              "      const a = document.createElement('a');\n",
              "      a.href = window.URL.createObjectURL(blob);\n",
              "      a.download = filename;\n",
              "      div.appendChild(a);\n",
              "      a.click();\n",
              "      div.remove();\n",
              "    }\n",
              "  "
            ]
          },
          "metadata": {}
        },
        {
          "output_type": "display_data",
          "data": {
            "text/plain": [
              "<IPython.core.display.Javascript object>"
            ],
            "application/javascript": [
              "download(\"download_63daca41-4d00-416c-9de0-fcb703c04e27\", \"corp_sum.xlsx\", 12154)"
            ]
          },
          "metadata": {}
        },
        {
          "output_type": "display_data",
          "data": {
            "text/plain": [
              "<IPython.core.display.Javascript object>"
            ],
            "application/javascript": [
              "\n",
              "    async function download(id, filename, size) {\n",
              "      if (!google.colab.kernel.accessAllowed) {\n",
              "        return;\n",
              "      }\n",
              "      const div = document.createElement('div');\n",
              "      const label = document.createElement('label');\n",
              "      label.textContent = `Downloading \"${filename}\": `;\n",
              "      div.appendChild(label);\n",
              "      const progress = document.createElement('progress');\n",
              "      progress.max = size;\n",
              "      div.appendChild(progress);\n",
              "      document.body.appendChild(div);\n",
              "\n",
              "      const buffers = [];\n",
              "      let downloaded = 0;\n",
              "\n",
              "      const channel = await google.colab.kernel.comms.open(id);\n",
              "      // Send a message to notify the kernel that we're ready.\n",
              "      channel.send({})\n",
              "\n",
              "      for await (const message of channel.messages) {\n",
              "        // Send a message to notify the kernel that we're ready.\n",
              "        channel.send({})\n",
              "        if (message.buffers) {\n",
              "          for (const buffer of message.buffers) {\n",
              "            buffers.push(buffer);\n",
              "            downloaded += buffer.byteLength;\n",
              "            progress.value = downloaded;\n",
              "          }\n",
              "        }\n",
              "      }\n",
              "      const blob = new Blob(buffers, {type: 'application/binary'});\n",
              "      const a = document.createElement('a');\n",
              "      a.href = window.URL.createObjectURL(blob);\n",
              "      a.download = filename;\n",
              "      div.appendChild(a);\n",
              "      a.click();\n",
              "      div.remove();\n",
              "    }\n",
              "  "
            ]
          },
          "metadata": {}
        },
        {
          "output_type": "display_data",
          "data": {
            "text/plain": [
              "<IPython.core.display.Javascript object>"
            ],
            "application/javascript": [
              "download(\"download_24d791f0-decb-4997-b065-df20a6b366c1\", \"bumn_sum.xlsx\", 16379)"
            ]
          },
          "metadata": {}
        }
      ]
    }
  ]
}